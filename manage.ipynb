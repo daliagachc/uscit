{
 "cells": [
  {
   "cell_type": "code",
   "execution_count": 14,
   "metadata": {
    "collapsed": true,
    "ExecuteTime": {
     "start_time": "2023-04-06T19:09:36.825586Z",
     "end_time": "2023-04-06T19:09:36.831151Z"
    }
   },
   "outputs": [],
   "source": [
    "import datetime\n",
    "import toml"
   ]
  },
  {
   "cell_type": "code",
   "execution_count": 0,
   "outputs": [],
   "source": [
    "def update_toml_version(toml_p):\n",
    "    \"\"\"\n",
    "    Updates the version field of a TOML file with the current date and time.\n",
    "\n",
    "    Parameters\n",
    "    ----------\n",
    "    toml_p : str\n",
    "        The path to the TOML file.\n",
    "\n",
    "    Returns\n",
    "    -------\n",
    "    None\n",
    "\n",
    "    \"\"\"\n",
    "    # Get the current date and time\n",
    "    current_time = datetime.datetime.now().strftime(\"%y.%m.%d.%H.%M\")\n",
    "\n",
    "    # Load the TOML file as a dictionary\n",
    "    with open(toml_p, \"r\") as f:\n",
    "        toml_dict = toml.load(f)\n",
    "\n",
    "    # Update the version field with the current date and time\n",
    "    toml_dict['project']['version'] = current_time\n",
    "\n",
    "    # Write the updated dictionary to the TOML file\n",
    "    with open(toml_p, 'w') as f:\n",
    "        toml.dump(toml_dict, f)\n"
   ],
   "metadata": {
    "collapsed": false,
    "ExecuteTime": {
     "start_time": "2023-04-06T20:20:00.444438Z",
     "end_time": "2023-04-06T20:20:00.451529Z"
    }
   }
  },
  {
   "cell_type": "code",
   "execution_count": 41,
   "outputs": [],
   "source": [
    "# update project version\n",
    "toml_p = 'pyproject.toml'\n",
    "update_toml_version(toml_p)"
   ],
   "metadata": {
    "collapsed": false,
    "ExecuteTime": {
     "start_time": "2023-04-06T20:46:52.642815Z",
     "end_time": "2023-04-06T20:46:52.649033Z"
    }
   }
  },
  {
   "cell_type": "code",
   "execution_count": 42,
   "outputs": [
    {
     "name": "stdout",
     "output_type": "stream",
     "text": [
      "\u001B[01mRunning Sphinx v6.1.3\u001B[39;49;00m\r\n",
      "\u001B[01mloading pickled environment... \u001B[39;49;00mdone\r\n",
      "[autosummary] generating autosummary for: index.rst, modules.rst, notebooks/e010_gallery.ipynb, uscit.rst\r\n",
      "\u001B[01mbuilding [mo]: \u001B[39;49;00mtargets for 0 po files that are out of date\r\n",
      "\u001B[01mwriting output... \u001B[39;49;00m\r\n",
      "\u001B[01mbuilding [html]: \u001B[39;49;00mtargets for 4 source files that are out of date\r\n",
      "\u001B[01mupdating environment: \u001B[39;49;00m[config changed ('release')] 4 added, 0 changed, 0 removed\r\n",
      "\u001B[01mreading sources... \u001B[39;49;00m[100%] \u001B[35muscit\u001B[39;49;00m                                                \r\n",
      "\u001B[01mlooking for now-outdated files... \u001B[39;49;00mnone found\r\n",
      "\u001B[01mpickling environment... \u001B[39;49;00mdone\r\n",
      "\u001B[01mchecking consistency... \u001B[39;49;00mdone\r\n",
      "\u001B[01mpreparing documents... \u001B[39;49;00mdone\r\n",
      "\u001B[01mwriting output... \u001B[39;49;00m[100%] \u001B[32muscit\u001B[39;49;00m                                                 \r\n",
      "\u001B[01mgenerating indices... \u001B[39;49;00mgenindex py-modindex done\r\n",
      "\u001B[01mcopying linked files... \u001B[39;49;00m\r\n",
      "\u001B[01mcopying notebooks ... \u001B[39;49;00m[100%] \u001B[33mnotebooks/e010_gallery.ipynb\u001B[39;49;00m                      \r\n",
      "\u001B[01mhighlighting module code... \u001B[39;49;00m[100%] \u001B[94muscit\u001B[39;49;00m                                       \r\n",
      "\u001B[01mwriting additional pages... \u001B[39;49;00msearch done\r\n",
      "\u001B[01mcopying images... \u001B[39;49;00m[100%] \u001B[33m../build/doctrees/nbsphinx/notebooks_e010_gallery_7_1.png\u001B[39;49;00m\r\n",
      "\u001B[01mcopying static files... \u001B[39;49;00mdone\r\n",
      "\u001B[01mcopying extra files... \u001B[39;49;00mdone\r\n",
      "\u001B[01mdumping search index in English (code: en)... \u001B[39;49;00mdone\r\n",
      "\u001B[01mdumping object inventory... \u001B[39;49;00mdone\r\n",
      "\r\n",
      "====================== slowest reading durations =======================\r\n",
      "1.204 notebooks/e010_gallery\r\n",
      "0.026 uscit\r\n",
      "0.014 index\r\n",
      "0.001 modules\r\n",
      "\u001B[01mbuild succeeded.\u001B[39;49;00m\r\n",
      "\r\n",
      "The HTML pages are in build/html.\r\n"
     ]
    }
   ],
   "source": [
    "# make documentation\n",
    "!cd docs; make html"
   ],
   "metadata": {
    "collapsed": false,
    "ExecuteTime": {
     "start_time": "2023-04-06T20:46:56.178305Z",
     "end_time": "2023-04-06T20:46:59.179394Z"
    }
   }
  },
  {
   "cell_type": "code",
   "execution_count": 43,
   "outputs": [
    {
     "name": "stdout",
     "output_type": "stream",
     "text": [
      "On branch main\r\n",
      "Your branch is up to date with 'origin/main'.\r\n",
      "\r\n",
      "Changes not staged for commit:\r\n",
      "  (use \"git add <file>...\" to update what will be committed)\r\n",
      "  (use \"git restore <file>...\" to discard changes in working directory)\r\n",
      "\t\u001B[31mmodified:   README.md\u001B[m\r\n",
      "\t\u001B[31mmodified:   docs/build/html/.buildinfo\u001B[m\r\n",
      "\t\u001B[31mmodified:   docs/build/html/_modules/index.html\u001B[m\r\n",
      "\t\u001B[31mmodified:   docs/build/html/_modules/uscit.html\u001B[m\r\n",
      "\t\u001B[31mmodified:   docs/build/html/_sources/index.rst.txt\u001B[m\r\n",
      "\t\u001B[31mmodified:   docs/build/html/_static/documentation_options.js\u001B[m\r\n",
      "\t\u001B[31mmodified:   docs/build/html/genindex.html\u001B[m\r\n",
      "\t\u001B[31mmodified:   docs/build/html/index.html\u001B[m\r\n",
      "\t\u001B[31mmodified:   docs/build/html/modules.html\u001B[m\r\n",
      "\t\u001B[31mmodified:   docs/build/html/notebooks/e010_gallery.html\u001B[m\r\n",
      "\t\u001B[31mmodified:   docs/build/html/objects.inv\u001B[m\r\n",
      "\t\u001B[31mmodified:   docs/build/html/py-modindex.html\u001B[m\r\n",
      "\t\u001B[31mmodified:   docs/build/html/search.html\u001B[m\r\n",
      "\t\u001B[31mmodified:   docs/build/html/uscit.html\u001B[m\r\n",
      "\t\u001B[31mmodified:   pyproject.toml\u001B[m\r\n",
      "\r\n",
      "Untracked files:\r\n",
      "  (use \"git add <file>...\" to include in what will be committed)\r\n",
      "\t\u001B[31m.DS_Store\u001B[m\r\n",
      "\t\u001B[31m.github/.DS_Store\u001B[m\r\n",
      "\t\u001B[31m.idea/\u001B[m\r\n",
      "\t\u001B[31mdist/\u001B[m\r\n",
      "\t\u001B[31mdocs/.DS_Store\u001B[m\r\n",
      "\t\u001B[31mdocs/build/.DS_Store\u001B[m\r\n",
      "\t\u001B[31mdocs/build/doctrees/\u001B[m\r\n",
      "\t\u001B[31msrc/.DS_Store\u001B[m\r\n",
      "\t\u001B[31msrc/__pycache__/\u001B[m\r\n",
      "\t\u001B[31msrc/uscit.egg-info/\u001B[m\r\n",
      "\r\n",
      "no changes added to commit (use \"git add\" and/or \"git commit -a\")\r\n"
     ]
    }
   ],
   "source": [
    "# commit to git\n",
    "!git commit -m 'from jl'"
   ],
   "metadata": {
    "collapsed": false,
    "ExecuteTime": {
     "start_time": "2023-04-06T20:47:00.633334Z",
     "end_time": "2023-04-06T20:47:00.844872Z"
    }
   }
  },
  {
   "cell_type": "code",
   "execution_count": 44,
   "outputs": [
    {
     "name": "stdout",
     "output_type": "stream",
     "text": [
      "Everything up-to-date\r\n"
     ]
    }
   ],
   "source": [
    "#push to git\n",
    "!git push"
   ],
   "metadata": {
    "collapsed": false,
    "ExecuteTime": {
     "start_time": "2023-04-06T20:47:07.857715Z",
     "end_time": "2023-04-06T20:47:08.695725Z"
    }
   }
  },
  {
   "cell_type": "code",
   "execution_count": 45,
   "outputs": [
    {
     "name": "stdout",
     "output_type": "stream",
     "text": [
      "\u001B[1m* Creating venv isolated environment...\u001B[0m\r\n",
      "\u001B[1m* Installing packages in isolated environment... (setuptools>=61.0)\u001B[0m\r\n",
      "\u001B[1m* Getting build dependencies for sdist...\u001B[0m\r\n",
      "running egg_info\r\n",
      "writing src/uscit.egg-info/PKG-INFO\r\n",
      "writing dependency_links to src/uscit.egg-info/dependency_links.txt\r\n",
      "writing top-level names to src/uscit.egg-info/top_level.txt\r\n",
      "reading manifest file 'src/uscit.egg-info/SOURCES.txt'\r\n",
      "adding license file 'LICENSE'\r\n",
      "writing manifest file 'src/uscit.egg-info/SOURCES.txt'\r\n",
      "\u001B[1m* Building sdist...\u001B[0m\r\n",
      "running sdist\r\n",
      "running egg_info\r\n",
      "writing src/uscit.egg-info/PKG-INFO\r\n",
      "writing dependency_links to src/uscit.egg-info/dependency_links.txt\r\n",
      "writing top-level names to src/uscit.egg-info/top_level.txt\r\n",
      "reading manifest file 'src/uscit.egg-info/SOURCES.txt'\r\n",
      "adding license file 'LICENSE'\r\n",
      "writing manifest file 'src/uscit.egg-info/SOURCES.txt'\r\n",
      "running check\r\n",
      "creating uscit-23.4.6.20.46\r\n",
      "creating uscit-23.4.6.20.46/src\r\n",
      "creating uscit-23.4.6.20.46/src/uscit.egg-info\r\n",
      "copying files to uscit-23.4.6.20.46...\r\n",
      "copying LICENSE -> uscit-23.4.6.20.46\r\n",
      "copying README.md -> uscit-23.4.6.20.46\r\n",
      "copying pyproject.toml -> uscit-23.4.6.20.46\r\n",
      "copying src/uscit.py -> uscit-23.4.6.20.46/src\r\n",
      "copying src/uscit.egg-info/PKG-INFO -> uscit-23.4.6.20.46/src/uscit.egg-info\r\n",
      "copying src/uscit.egg-info/SOURCES.txt -> uscit-23.4.6.20.46/src/uscit.egg-info\r\n",
      "copying src/uscit.egg-info/dependency_links.txt -> uscit-23.4.6.20.46/src/uscit.egg-info\r\n",
      "copying src/uscit.egg-info/top_level.txt -> uscit-23.4.6.20.46/src/uscit.egg-info\r\n",
      "Writing uscit-23.4.6.20.46/setup.cfg\r\n",
      "Creating tar archive\r\n",
      "removing 'uscit-23.4.6.20.46' (and everything under it)\r\n",
      "\u001B[1m* Building wheel from sdist\u001B[0m\r\n",
      "\u001B[1m* Creating venv isolated environment...\u001B[0m\r\n",
      "\u001B[1m* Installing packages in isolated environment... (setuptools>=61.0)\u001B[0m\r\n",
      "\u001B[1m* Getting build dependencies for wheel...\u001B[0m\r\n",
      "running egg_info\r\n",
      "writing src/uscit.egg-info/PKG-INFO\r\n",
      "writing dependency_links to src/uscit.egg-info/dependency_links.txt\r\n",
      "writing top-level names to src/uscit.egg-info/top_level.txt\r\n",
      "reading manifest file 'src/uscit.egg-info/SOURCES.txt'\r\n",
      "adding license file 'LICENSE'\r\n",
      "writing manifest file 'src/uscit.egg-info/SOURCES.txt'\r\n",
      "\u001B[1m* Installing packages in isolated environment... (wheel)\u001B[0m\r\n",
      "\u001B[1m* Building wheel...\u001B[0m\r\n",
      "running bdist_wheel\r\n",
      "running build\r\n",
      "running build_py\r\n",
      "creating build\r\n",
      "creating build/lib\r\n",
      "copying src/uscit.py -> build/lib\r\n",
      "running egg_info\r\n",
      "writing src/uscit.egg-info/PKG-INFO\r\n",
      "writing dependency_links to src/uscit.egg-info/dependency_links.txt\r\n",
      "writing top-level names to src/uscit.egg-info/top_level.txt\r\n",
      "reading manifest file 'src/uscit.egg-info/SOURCES.txt'\r\n",
      "adding license file 'LICENSE'\r\n",
      "writing manifest file 'src/uscit.egg-info/SOURCES.txt'\r\n",
      "installing to build/bdist.macosx-11.0-arm64/wheel\r\n",
      "running install\r\n",
      "running install_lib\r\n",
      "creating build/bdist.macosx-11.0-arm64\r\n",
      "creating build/bdist.macosx-11.0-arm64/wheel\r\n",
      "copying build/lib/uscit.py -> build/bdist.macosx-11.0-arm64/wheel\r\n",
      "running install_egg_info\r\n",
      "Copying src/uscit.egg-info to build/bdist.macosx-11.0-arm64/wheel/uscit-23.4.6.20.46-py3.9.egg-info\r\n",
      "running install_scripts\r\n",
      "creating build/bdist.macosx-11.0-arm64/wheel/uscit-23.4.6.20.46.dist-info/WHEEL\r\n",
      "creating '/Users/aliaga/Documents/Work_DA/Py-packs/uscit/dist/.tmp-e49ks1bk/uscit-23.4.6.20.46-py3-none-any.whl' and adding 'build/bdist.macosx-11.0-arm64/wheel' to it\r\n",
      "adding 'uscit.py'\r\n",
      "adding 'uscit-23.4.6.20.46.dist-info/LICENSE'\r\n",
      "adding 'uscit-23.4.6.20.46.dist-info/METADATA'\r\n",
      "adding 'uscit-23.4.6.20.46.dist-info/WHEEL'\r\n",
      "adding 'uscit-23.4.6.20.46.dist-info/top_level.txt'\r\n",
      "adding 'uscit-23.4.6.20.46.dist-info/RECORD'\r\n",
      "removing build/bdist.macosx-11.0-arm64/wheel\r\n",
      "\u001B[1m\u001B[92mSuccessfully built \u001B[4muscit-23.4.6.20.46.tar.gz\u001B[0m\u001B[1m\u001B[92m and \u001B[4muscit-23.4.6.20.46-py3-none-any.whl\u001B[0m\u001B[1m\u001B[92m\u001B[0m\r\n"
     ]
    }
   ],
   "source": [
    "# commit to pypy\n",
    "!python3 -m build"
   ],
   "metadata": {
    "collapsed": false,
    "ExecuteTime": {
     "start_time": "2023-04-06T20:47:12.199570Z",
     "end_time": "2023-04-06T20:47:22.118019Z"
    }
   }
  },
  {
   "cell_type": "code",
   "execution_count": 50,
   "outputs": [
    {
     "name": "stdout",
     "output_type": "stream",
     "text": [
      "Uploading distributions to https://upload.pypi.org/legacy/\r\n",
      "Uploading uscit-23.4.6.0-py3-none-any.whl\r\n",
      "\u001B[2K\u001B[35m100%\u001B[0m \u001B[38;2;114;156;31m━━━━━━━━━━━━━━━━━━━━━━━━━━━━━━━━━━━━━━━━\u001B[0m \u001B[32m7.5/7.5 kB\u001B[0m • \u001B[33m00:00\u001B[0m • \u001B[31m?\u001B[0m\r\n",
      "\u001B[?25hUploading uscit-23.4.6.20.20-py3-none-any.whl\r\n",
      "\u001B[2K\u001B[35m100%\u001B[0m \u001B[38;2;114;156;31m━━━━━━━━━━━━━━━━━━━━━━━━━━━━━━━━━━━━━━━━\u001B[0m \u001B[32m7.6/7.6 kB\u001B[0m • \u001B[33m00:00\u001B[0m • \u001B[31m?\u001B[0m\r\n",
      "\u001B[?25hUploading uscit-23.4.6.20.46-py3-none-any.whl\r\n",
      "\u001B[2K\u001B[35m100%\u001B[0m \u001B[38;2;114;156;31m━━━━━━━━━━━━━━━━━━━━━━━━━━━━━━━━━━━━━━━━\u001B[0m \u001B[32m7.8/7.8 kB\u001B[0m • \u001B[33m00:00\u001B[0m • \u001B[31m?\u001B[0m\r\n",
      "\u001B[?25hUploading uscit-23.4.6.0.tar.gz\r\n",
      "\u001B[2K\u001B[35m100%\u001B[0m \u001B[38;2;114;156;31m━━━━━━━━━━━━━━━━━━━━━━━━━━━━━━━━━━━━━━━━\u001B[0m \u001B[32m7.4/7.4 kB\u001B[0m • \u001B[33m00:00\u001B[0m • \u001B[31m?\u001B[0m\r\n",
      "\u001B[?25hUploading uscit-23.4.6.20.20.tar.gz\r\n",
      "\u001B[2K\u001B[35m100%\u001B[0m \u001B[38;2;114;156;31m━━━━━━━━━━━━━━━━━━━━━━━━━━━━━━━━━━━━━━━━\u001B[0m \u001B[32m7.4/7.4 kB\u001B[0m • \u001B[33m00:00\u001B[0m • \u001B[31m?\u001B[0m\r\n",
      "\u001B[?25hUploading uscit-23.4.6.20.46.tar.gz\r\n",
      "\u001B[2K\u001B[35m100%\u001B[0m \u001B[38;2;114;156;31m━━━━━━━━━━━━━━━━━━━━━━━━━━━━━━━━━━━━━━━━\u001B[0m \u001B[32m7.6/7.6 kB\u001B[0m • \u001B[33m00:00\u001B[0m • \u001B[31m?\u001B[0m\r\n",
      "\u001B[?25h\r\n",
      "\u001B[32mView at:\u001B[0m\r\n",
      "https://pypi.org/project/uscit/23.4.6.20.46/\r\n",
      "https://pypi.org/project/uscit/23.4.6.20.20/\r\n",
      "https://pypi.org/project/uscit/23.4.6.0/\r\n"
     ]
    }
   ],
   "source": [
    "!source ./token_twine; \\\n",
    "    python3 -m twine upload -u __token__ \\\n",
    "    -p $PASS_TWINE \\\n",
    "     dist/*"
   ],
   "metadata": {
    "collapsed": false,
    "ExecuteTime": {
     "start_time": "2023-04-06T20:53:37.022788Z",
     "end_time": "2023-04-06T20:53:41.359577Z"
    }
   }
  }
 ],
 "metadata": {
  "kernelspec": {
   "display_name": "Python 3",
   "language": "python",
   "name": "python3"
  },
  "language_info": {
   "codemirror_mode": {
    "name": "ipython",
    "version": 2
   },
   "file_extension": ".py",
   "mimetype": "text/x-python",
   "name": "python",
   "nbconvert_exporter": "python",
   "pygments_lexer": "ipython2",
   "version": "2.7.6"
  }
 },
 "nbformat": 4,
 "nbformat_minor": 0
}
