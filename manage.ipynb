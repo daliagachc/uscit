{
 "cells": [
  {
   "cell_type": "code",
   "execution_count": null,
   "outputs": [],
   "source": [
    "'''\n",
    "- this notebooks is used for developing purposes\n",
    "- it updates de date\n",
    "- build the documentation\n",
    "- pushes everything to github\n",
    "- pushes to pypi\n",
    "'''"
   ],
   "metadata": {
    "collapsed": false
   }
  },
  {
   "cell_type": "code",
   "execution_count": 2,
   "metadata": {
    "ExecuteTime": {
     "end_time": "2023-04-06T21:03:38.572448Z",
     "start_time": "2023-04-06T21:03:38.566694Z"
    },
    "collapsed": true
   },
   "outputs": [],
   "source": [
    "import datetime\n",
    "import toml\n",
    "import subprocess"
   ]
  },
  {
   "cell_type": "code",
   "execution_count": 11,
   "metadata": {
    "ExecuteTime": {
     "end_time": "2023-04-06T21:09:08.981769Z",
     "start_time": "2023-04-06T21:09:08.978837Z"
    },
    "collapsed": false
   },
   "outputs": [],
   "source": [
    "def update_toml_version(toml_p):\n",
    "    \"\"\"\n",
    "    Updates the version field of a TOML file with the current date and time.\n",
    "\n",
    "    Parameters\n",
    "    ----------\n",
    "    toml_p : str\n",
    "        The path to the TOML file.\n",
    "\n",
    "    Returns\n",
    "    -------\n",
    "    None\n",
    "\n",
    "    \"\"\"\n",
    "    # Get the current date and time\n",
    "    current_time = datetime.datetime.now().strftime(\"%y.%m.%d.%H.%M\")\n",
    "\n",
    "    # Load the TOML file as a dictionary\n",
    "    with open(toml_p, \"r\") as f:\n",
    "        toml_dict = toml.load(f)\n",
    "\n",
    "    # Update the version field with the current date and time\n",
    "    toml_dict['project']['version'] = current_time\n",
    "\n",
    "    # Write the updated dictionary to the TOML file\n",
    "    with open(toml_p, 'w') as f:\n",
    "        toml.dump(toml_dict, f)\n"
   ]
  },
  {
   "cell_type": "code",
   "execution_count": 12,
   "metadata": {
    "ExecuteTime": {
     "end_time": "2023-04-06T21:09:11.546409Z",
     "start_time": "2023-04-06T21:09:11.540344Z"
    },
    "collapsed": false
   },
   "outputs": [],
   "source": [
    "# update project version\n",
    "toml_p = 'pyproject.toml'\n",
    "update_toml_version(toml_p)"
   ]
  },
  {
   "cell_type": "code",
   "execution_count": 13,
   "metadata": {
    "ExecuteTime": {
     "end_time": "2023-04-06T21:09:15.777895Z",
     "start_time": "2023-04-06T21:09:12.972135Z"
    },
    "collapsed": false
   },
   "outputs": [
    {
     "name": "stdout",
     "output_type": "stream",
     "text": [
      "\u001B[01mRunning Sphinx v6.1.3\u001B[39;49;00m\n",
      "\u001B[01mloading pickled environment... \u001B[39;49;00mdone\n",
      "[autosummary] generating autosummary for: index.rst, modules.rst, notebooks/e010_gallery.ipynb, uscit.rst\n",
      "\u001B[01mbuilding [mo]: \u001B[39;49;00mtargets for 0 po files that are out of date\n",
      "\u001B[01mwriting output... \u001B[39;49;00m\n",
      "\u001B[01mbuilding [html]: \u001B[39;49;00mtargets for 4 source files that are out of date\n",
      "\u001B[01mupdating environment: \u001B[39;49;00m[config changed ('release')] 4 added, 0 changed, 0 removed\n",
      "\u001B[01mreading sources... \u001B[39;49;00m[100%] \u001B[35muscit\u001B[39;49;00m                                                \r\n",
      "\u001B[01mlooking for now-outdated files... \u001B[39;49;00mnone found\n",
      "\u001B[01mpickling environment... \u001B[39;49;00mdone\n",
      "\u001B[01mchecking consistency... \u001B[39;49;00mdone\n",
      "\u001B[01mpreparing documents... \u001B[39;49;00mdone\n",
      "\u001B[01mwriting output... \u001B[39;49;00m[100%] \u001B[32muscit\u001B[39;49;00m                                                 \r\n",
      "\u001B[01mgenerating indices... \u001B[39;49;00mgenindex py-modindex done\n",
      "\u001B[01mcopying linked files... \u001B[39;49;00m\n",
      "\u001B[01mcopying notebooks ... \u001B[39;49;00m[100%] \u001B[33mnotebooks/e010_gallery.ipynb\u001B[39;49;00m                      \r\n",
      "\u001B[01mhighlighting module code... \u001B[39;49;00m[100%] \u001B[94muscit\u001B[39;49;00m                                       \r\n",
      "\u001B[01mwriting additional pages... \u001B[39;49;00msearch done\n",
      "\u001B[01mcopying images... \u001B[39;49;00m[100%] \u001B[33m../build/doctrees/nbsphinx/notebooks_e010_gallery_7_1.png\u001B[39;49;00m\r\n",
      "\u001B[01mcopying static files... \u001B[39;49;00mdone\n",
      "\u001B[01mcopying extra files... \u001B[39;49;00mdone\n",
      "\u001B[01mdumping search index in English (code: en)... \u001B[39;49;00mdone\n",
      "\u001B[01mdumping object inventory... \u001B[39;49;00mdone\n",
      "\n",
      "====================== slowest reading durations =======================\n",
      "1.180 notebooks/e010_gallery\n",
      "0.026 uscit\n",
      "0.013 index\n",
      "0.001 modules\n",
      "\u001B[01mbuild succeeded.\u001B[39;49;00m\n",
      "\n",
      "The HTML pages are in build/html.\n"
     ]
    },
    {
     "data": {
      "text/plain": [
       "CompletedProcess(args='cd docs; make html', returncode=0)"
      ]
     },
     "execution_count": 13,
     "metadata": {},
     "output_type": "execute_result"
    }
   ],
   "source": [
    "# make documentation\n",
    "subprocess.run(\"cd docs; make html\", shell=True)"
   ]
  },
  {
   "cell_type": "code",
   "execution_count": 21,
   "outputs": [
    {
     "data": {
      "text/plain": "CompletedProcess(args='open docs/build/html/index.html', returncode=0)"
     },
     "execution_count": 21,
     "metadata": {},
     "output_type": "execute_result"
    }
   ],
   "source": [
    "subprocess.run(\"open docs/build/html/index.html\", shell=True)"
   ],
   "metadata": {
    "collapsed": false,
    "ExecuteTime": {
     "start_time": "2023-04-06T23:41:58.116158Z",
     "end_time": "2023-04-06T23:41:58.308392Z"
    }
   }
  },
  {
   "cell_type": "code",
   "execution_count": 14,
   "metadata": {
    "ExecuteTime": {
     "end_time": "2023-04-06T21:09:17.973579Z",
     "start_time": "2023-04-06T21:09:17.895121Z"
    },
    "collapsed": false
   },
   "outputs": [
    {
     "name": "stdout",
     "output_type": "stream",
     "text": [
      "On branch main\n",
      "Your branch is ahead of 'origin/main' by 1 commit.\n",
      "  (use \"git push\" to publish your local commits)\n",
      "\n",
      "Changes not staged for commit:\n",
      "  (use \"git add <file>...\" to update what will be committed)\n",
      "  (use \"git restore <file>...\" to discard changes in working directory)\n",
      "\tmodified:   .gitignore\n",
      "\tmodified:   README.md\n",
      "\tmodified:   docs/build/html/.buildinfo\n",
      "\tmodified:   docs/build/html/_modules/index.html\n",
      "\tmodified:   docs/build/html/_modules/uscit.html\n",
      "\tmodified:   docs/build/html/_sources/index.rst.txt\n",
      "\tmodified:   docs/build/html/_static/documentation_options.js\n",
      "\tmodified:   docs/build/html/genindex.html\n",
      "\tmodified:   docs/build/html/index.html\n",
      "\tmodified:   docs/build/html/modules.html\n",
      "\tmodified:   docs/build/html/notebooks/e010_gallery.html\n",
      "\tmodified:   docs/build/html/objects.inv\n",
      "\tmodified:   docs/build/html/py-modindex.html\n",
      "\tmodified:   docs/build/html/search.html\n",
      "\tmodified:   docs/build/html/uscit.html\n",
      "\tmodified:   manage.ipynb\n",
      "\tmodified:   pyproject.toml\n",
      "\n",
      "Untracked files:\n",
      "  (use \"git add <file>...\" to include in what will be committed)\n",
      "\t.DS_Store\n",
      "\t.github/.DS_Store\n",
      "\t.idea/\n",
      "\tdist/\n",
      "\tdocs/.DS_Store\n",
      "\tdocs/build/.DS_Store\n",
      "\tdocs/build/doctrees/\n",
      "\tmanage.py\n",
      "\tsrc/.DS_Store\n",
      "\tsrc/__pycache__/\n",
      "\tsrc/uscit.egg-info/\n",
      "\n",
      "no changes added to commit (use \"git add\" and/or \"git commit -a\")\n"
     ]
    },
    {
     "data": {
      "text/plain": [
       "CompletedProcess(args=\"git commit -m 'from jl'\", returncode=1)"
      ]
     },
     "execution_count": 14,
     "metadata": {},
     "output_type": "execute_result"
    }
   ],
   "source": [
    "# commit to git\n",
    "subprocess.run(\"git commit -m 'from jl'\", shell=True)"
   ]
  },
  {
   "cell_type": "code",
   "execution_count": 15,
   "metadata": {
    "ExecuteTime": {
     "end_time": "2023-04-06T21:09:25.474574Z",
     "start_time": "2023-04-06T21:09:24.067796Z"
    },
    "collapsed": false
   },
   "outputs": [
    {
     "name": "stderr",
     "output_type": "stream",
     "text": [
      "To https://github.com/daliagachc/uscit.git\n",
      "   d95eb24..b100610  main -> main\n"
     ]
    },
    {
     "data": {
      "text/plain": [
       "CompletedProcess(args='git push', returncode=0)"
      ]
     },
     "execution_count": 15,
     "metadata": {},
     "output_type": "execute_result"
    }
   ],
   "source": [
    "#push to git\n",
    "\n",
    "subprocess.run(\"git push\", shell=True)"
   ]
  },
  {
   "cell_type": "code",
   "execution_count": 18,
   "metadata": {
    "ExecuteTime": {
     "end_time": "2023-04-06T21:14:06.724571Z",
     "start_time": "2023-04-06T21:13:56.907280Z"
    },
    "collapsed": false
   },
   "outputs": [
    {
     "name": "stdout",
     "output_type": "stream",
     "text": [
      "\u001B[1m* Creating venv isolated environment...\u001B[0m\n",
      "\u001B[1m* Installing packages in isolated environment... (setuptools>=61.0)\u001B[0m\n",
      "\u001B[1m* Getting build dependencies for sdist...\u001B[0m\n",
      "running egg_info\n",
      "writing src/uscit.egg-info/PKG-INFO\n",
      "writing dependency_links to src/uscit.egg-info/dependency_links.txt\n",
      "writing top-level names to src/uscit.egg-info/top_level.txt\n",
      "reading manifest file 'src/uscit.egg-info/SOURCES.txt'\n",
      "adding license file 'LICENSE'\n",
      "writing manifest file 'src/uscit.egg-info/SOURCES.txt'\n",
      "\u001B[1m* Building sdist...\u001B[0m\n",
      "running sdist\n",
      "running egg_info\n",
      "writing src/uscit.egg-info/PKG-INFO\n",
      "writing dependency_links to src/uscit.egg-info/dependency_links.txt\n",
      "writing top-level names to src/uscit.egg-info/top_level.txt\n",
      "reading manifest file 'src/uscit.egg-info/SOURCES.txt'\n",
      "adding license file 'LICENSE'\n",
      "writing manifest file 'src/uscit.egg-info/SOURCES.txt'\n",
      "running check\n",
      "creating uscit-23.4.6.21.9\n",
      "creating uscit-23.4.6.21.9/src\n",
      "creating uscit-23.4.6.21.9/src/uscit.egg-info\n",
      "copying files to uscit-23.4.6.21.9...\n",
      "copying LICENSE -> uscit-23.4.6.21.9\n",
      "copying README.md -> uscit-23.4.6.21.9\n",
      "copying pyproject.toml -> uscit-23.4.6.21.9\n",
      "copying src/uscit.py -> uscit-23.4.6.21.9/src\n",
      "copying src/uscit.egg-info/PKG-INFO -> uscit-23.4.6.21.9/src/uscit.egg-info\n",
      "copying src/uscit.egg-info/SOURCES.txt -> uscit-23.4.6.21.9/src/uscit.egg-info\n",
      "copying src/uscit.egg-info/dependency_links.txt -> uscit-23.4.6.21.9/src/uscit.egg-info\n",
      "copying src/uscit.egg-info/top_level.txt -> uscit-23.4.6.21.9/src/uscit.egg-info\n",
      "Writing uscit-23.4.6.21.9/setup.cfg\n",
      "Creating tar archive\n",
      "removing 'uscit-23.4.6.21.9' (and everything under it)\n",
      "\u001B[1m* Building wheel from sdist\u001B[0m\n",
      "\u001B[1m* Creating venv isolated environment...\u001B[0m\n",
      "\u001B[1m* Installing packages in isolated environment... (setuptools>=61.0)\u001B[0m\n",
      "\u001B[1m* Getting build dependencies for wheel...\u001B[0m\n",
      "running egg_info\n",
      "writing src/uscit.egg-info/PKG-INFO\n",
      "writing dependency_links to src/uscit.egg-info/dependency_links.txt\n",
      "writing top-level names to src/uscit.egg-info/top_level.txt\n",
      "reading manifest file 'src/uscit.egg-info/SOURCES.txt'\n",
      "adding license file 'LICENSE'\n",
      "writing manifest file 'src/uscit.egg-info/SOURCES.txt'\n",
      "\u001B[1m* Installing packages in isolated environment... (wheel)\u001B[0m\n",
      "\u001B[1m* Building wheel...\u001B[0m\n",
      "running bdist_wheel\n",
      "running build\n",
      "running build_py\n",
      "creating build\n",
      "creating build/lib\n",
      "copying src/uscit.py -> build/lib\n",
      "running egg_info\n",
      "writing src/uscit.egg-info/PKG-INFO\n",
      "writing dependency_links to src/uscit.egg-info/dependency_links.txt\n",
      "writing top-level names to src/uscit.egg-info/top_level.txt\n",
      "reading manifest file 'src/uscit.egg-info/SOURCES.txt'\n",
      "adding license file 'LICENSE'\n",
      "writing manifest file 'src/uscit.egg-info/SOURCES.txt'\n",
      "installing to build/bdist.macosx-11.0-arm64/wheel\n",
      "running install\n",
      "running install_lib\n",
      "creating build/bdist.macosx-11.0-arm64\n",
      "creating build/bdist.macosx-11.0-arm64/wheel\n",
      "copying build/lib/uscit.py -> build/bdist.macosx-11.0-arm64/wheel\n",
      "running install_egg_info\n",
      "Copying src/uscit.egg-info to build/bdist.macosx-11.0-arm64/wheel/uscit-23.4.6.21.9-py3.9.egg-info\n",
      "running install_scripts\n",
      "creating build/bdist.macosx-11.0-arm64/wheel/uscit-23.4.6.21.9.dist-info/WHEEL\n",
      "creating '/Users/aliaga/Documents/Work_DA/Py-packs/uscit/dist/.tmp-gfjj82ku/uscit-23.4.6.21.9-py3-none-any.whl' and adding 'build/bdist.macosx-11.0-arm64/wheel' to it\n",
      "adding 'uscit.py'\n",
      "adding 'uscit-23.4.6.21.9.dist-info/LICENSE'\n",
      "adding 'uscit-23.4.6.21.9.dist-info/METADATA'\n",
      "adding 'uscit-23.4.6.21.9.dist-info/WHEEL'\n",
      "adding 'uscit-23.4.6.21.9.dist-info/top_level.txt'\n",
      "adding 'uscit-23.4.6.21.9.dist-info/RECORD'\n",
      "removing build/bdist.macosx-11.0-arm64/wheel\n",
      "\u001B[1m\u001B[92mSuccessfully built \u001B[4muscit-23.4.6.21.9.tar.gz\u001B[0m\u001B[1m\u001B[92m and \u001B[4muscit-23.4.6.21.9-py3-none-any.whl\u001B[0m\u001B[1m\u001B[92m\u001B[0m\n"
     ]
    },
    {
     "data": {
      "text/plain": [
       "CompletedProcess(args='python3 -m build', returncode=0)"
      ]
     },
     "execution_count": 18,
     "metadata": {},
     "output_type": "execute_result"
    }
   ],
   "source": [
    "# build\n",
    "subprocess.run(\"python3 -m build\", shell=True)"
   ]
  },
  {
   "cell_type": "code",
   "execution_count": 20,
   "metadata": {
    "ExecuteTime": {
     "end_time": "2023-04-06T21:16:06.632876Z",
     "start_time": "2023-04-06T21:15:58.858116Z"
    },
    "collapsed": false
   },
   "outputs": [
    {
     "name": "stdout",
     "output_type": "stream",
     "text": [
      "Uploading distributions to https://upload.pypi.org/legacy/\n",
      "Uploading uscit-23.4.6.0-py3-none-any.whl\n",
      "\u001B[2K\u001B[35m100%\u001B[0m \u001B[38;2;114;156;31m━━━━━━━━━━━━━━━━━━━━━━━━━━━━━━━━━━━━━━━━\u001B[0m \u001B[32m7.5/7.5 kB\u001B[0m • \u001B[33m00:00\u001B[0m • \u001B[31m?\u001B[0m\n",
      "\u001B[?25hUploading uscit-23.4.6.20.20-py3-none-any.whl\n",
      "\u001B[2K\u001B[35m100%\u001B[0m \u001B[38;2;114;156;31m━━━━━━━━━━━━━━━━━━━━━━━━━━━━━━━━━━━━━━━━\u001B[0m \u001B[32m7.6/7.6 kB\u001B[0m • \u001B[33m00:00\u001B[0m • \u001B[31m?\u001B[0m\n",
      "\u001B[?25hUploading uscit-23.4.6.21.9-py3-none-any.whl\n",
      "\u001B[2K\u001B[35m100%\u001B[0m \u001B[38;2;114;156;31m━━━━━━━━━━━━━━━━━━━━━━━━━━━━━━━━━━━━━━━━\u001B[0m \u001B[32m7.8/7.8 kB\u001B[0m • \u001B[33m00:00\u001B[0m • \u001B[31m?\u001B[0m\n",
      "\u001B[?25hUploading uscit-23.4.6.0.tar.gz\n",
      "\u001B[2K\u001B[35m100%\u001B[0m \u001B[38;2;114;156;31m━━━━━━━━━━━━━━━━━━━━━━━━━━━━━━━━━━━━━━━━\u001B[0m \u001B[32m7.4/7.4 kB\u001B[0m • \u001B[33m00:00\u001B[0m • \u001B[31m?\u001B[0m\n",
      "\u001B[?25hUploading uscit-23.4.6.20.20.tar.gz\n",
      "\u001B[2K\u001B[35m100%\u001B[0m \u001B[38;2;114;156;31m━━━━━━━━━━━━━━━━━━━━━━━━━━━━━━━━━━━━━━━━\u001B[0m \u001B[32m7.4/7.4 kB\u001B[0m • \u001B[33m00:00\u001B[0m • \u001B[31m?\u001B[0m\n",
      "\u001B[?25hUploading uscit-23.4.6.21.9.tar.gz\n",
      "\u001B[2K\u001B[35m100%\u001B[0m \u001B[38;2;114;156;31m━━━━━━━━━━━━━━━━━━━━━━━━━━━━━━━━━━━━━━━━\u001B[0m \u001B[32m7.6/7.6 kB\u001B[0m • \u001B[33m00:00\u001B[0m • \u001B[31m?\u001B[0m\n",
      "\u001B[?25h\n",
      "\u001B[32mView at:\u001B[0m\n",
      "https://pypi.org/project/uscit/23.4.6.21.9/\n",
      "https://pypi.org/project/uscit/23.4.6.20.20/\n",
      "https://pypi.org/project/uscit/23.4.6.0/\n"
     ]
    },
    {
     "data": {
      "text/plain": [
       "CompletedProcess(args='\\nsource ./token_twine;     python3 -m twine upload -u __token__     -p $PASS_TWINE      dist/*\\n', returncode=0)"
      ]
     },
     "execution_count": 20,
     "metadata": {},
     "output_type": "execute_result"
    }
   ],
   "source": [
    "# toke_twine is a file with the pypi token that for\n",
    "# security reasons is not uplodade to github\n",
    "st = '''\n",
    "source ./token_twine; \\\n",
    "    python3 -m twine upload -u __token__ \\\n",
    "    -p $PASS_TWINE \\\n",
    "     dist/*\n",
    "'''\n",
    "\n",
    "subprocess.run(st, shell=True)"
   ]
  },
  {
   "cell_type": "code",
   "execution_count": null,
   "metadata": {
    "collapsed": false
   },
   "outputs": [],
   "source": []
  }
 ],
 "metadata": {
  "jupytext": {
   "formats": "ipynb,py:percent"
  },
  "kernelspec": {
   "display_name": "Python 3",
   "language": "python",
   "name": "python3"
  },
  "language_info": {
   "codemirror_mode": {
    "name": "ipython",
    "version": 2
   },
   "file_extension": ".py",
   "mimetype": "text/x-python",
   "name": "python",
   "nbconvert_exporter": "python",
   "pygments_lexer": "ipython2",
   "version": "2.7.6"
  }
 },
 "nbformat": 4,
 "nbformat_minor": 0
}
